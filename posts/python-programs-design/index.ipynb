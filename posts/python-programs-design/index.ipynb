{
 "cells": [
  {
   "cell_type": "markdown",
   "metadata": {},
   "source": [
    "# Python Programs Design\n",
    " Inspired by Peter Norvig's course at Udacity<br/>\n",
    " https://www.udacity.com/course/design-of-computer-programs--cs212\n",
    "\n",
    "\n",
    "## Workflow\n",
    "**??**&nbsp;&nbsp;&nbsp;>&nbsp;&nbsp;&nbsp;**problem**&nbsp;&nbsp;&nbsp;&nbsp;&nbsp;&nbsp;>&nbsp;&nbsp;&nbsp;&nbsp;&nbsp;&nbsp;**spec**&nbsp;&nbsp;&nbsp;&nbsp;&nbsp;&nbsp;>&nbsp;&nbsp;&nbsp;&nbsp;&nbsp;&nbsp;**code**<br/>\n",
    "&nbsp;*understand*&nbsp;&nbsp;&nbsp;&nbsp;&nbsp;&nbsp;&nbsp;&nbsp;*specify*&nbsp;&nbsp;&nbsp;&nbsp;&nbsp;&nbsp;&nbsp;&nbsp;&nbsp;&nbsp;&nbsp;&nbsp;&nbsp;*design*    \n",
    "\n",
    " Starting from a relative understanding of a problem/task we *specify* how things work in the domain of the problem, to *design* code that solve the problem or realize the task\n",
    "\n",
    "### Barebone\n",
    "1. Explain to yourself and in a team the task/problem\n",
    "2. Reach a written/unformal specification of the task, defining sequential sub-tasks or complementary functions to solve the problem\n",
    "3. Design your code to solve tasks and sub-tasks, minding best practices (or design patterns)\n",
    "4. Code\n",
    "5. Iterate with adjustments and tests\n",
    "\n",
    "\n",
    "### Code\n",
    "1. write down a function name that realize a sub-task\n",
    "2. write the docstring for the function\n",
    "3. find the best built-in functions or libraries to realize the task in the function (forget optimization for now, try to be idiomatic and use the fittest tools)\n",
    "4. write different functions depending on your style (functional, object oriented)\n",
    "5. Accomplish the task by defining a \"main\" script that uses the functions\n",
    "\n",
    "### Example\n",
    " We are going to use the example of simulating a Poker game as a playground for a program design:\n"
   ]
  },
  {
   "cell_type": "code",
   "execution_count": 5,
   "metadata": {
    "collapsed": false
   },
   "outputs": [
    {
     "name": "stdout",
     "output_type": "stream",
     "text": [
      "5\n",
      "-5\n"
     ]
    }
   ],
   "source": [
    "def poker(hands):                   # function name\n",
    "    \"\"\" Return the best hand: poker([hand, ..]) => hand \"\"\"  # docstring\n",
    "    return max()                    # the fittest function to return the maximum value in Python is max()\n",
    "\n",
    "print(max([3, 4, 5, 0]))            # study from the documentation the behaviour of the function\n",
    "print(max([3, 4, -5, 0], key=abs))  # https://docs.python.org/3.3/library/functions.html#max"
   ]
  },
  {
   "cell_type": "markdown",
   "metadata": {},
   "source": [
    " **A program is a set of functions, classes and operations working to solve/realize the same problem/task**\n",
    "\n",
    "NOTE: Python3 basic built-ins https://docs.python.org/3.3/library/functions.html"
   ]
  },
  {
   "cell_type": "markdown",
   "metadata": {},
   "source": [
    "### Best use of Python design principles\n",
    "\n",
    "Going on we will get familiar with Python design principles and we will know how to use the tools the language provides. Let's see how it is possible by introducing in our design a function to define ranks for hands in a poker game.  "
   ]
  },
  {
   "cell_type": "code",
   "execution_count": 1,
   "metadata": {
    "collapsed": true
   },
   "outputs": [],
   "source": [
    "def hand_rank(hand):\n",
    "    \"\"\" Return the rank(\"point\") of an hand: hand => rank according to poker rules \n",
    "    ranks = { nothing: 0, pair: 1, double pair: 2, ..., flush: x, four of a kind: y, ... } \"\"\"\n",
    "    return None # by now it is not implemented\n",
    "\n",
    "# How can we return the hand with the best ranking from a list of hands \n",
    "\n",
    "def poker(hands):                   \n",
    "    \"\"\" Return the best hand: [hand, ..] => hand \"\"\" \n",
    "    return max(hands, key=hand_rank)  # use of a custom function as a key for max()\n",
    "\n",
    "# If we use the 'key' argument in max() we can find the max value coming out from the hand_rank()\n",
    "# this is an example of how a Python function fits perfectly to solve a sub-task for our problem.\n",
    "\n"
   ]
  },
  {
   "cell_type": "code",
   "execution_count": null,
   "metadata": {
    "collapsed": true
   },
   "outputs": [],
   "source": [
    "# https://github.com/faif/python-patterns\n",
    "# https://github.com/davidcorne/Design-Patterns-In-Python"
   ]
  }
 ],
 "metadata": {
  "kernelspec": {
   "display_name": "Python 3",
   "language": "python",
   "name": "python3"
  },
  "language_info": {
   "codemirror_mode": {
    "name": "ipython",
    "version": 3
   },
   "file_extension": ".py",
   "mimetype": "text/x-python",
   "name": "python",
   "nbconvert_exporter": "python",
   "pygments_lexer": "ipython3",
   "version": "3.3.5rc1"
  },
  "nikola": {
   "category": "draft",
   "date": "2015-07-21 22:41:44 UTC+02:00",
   "description": "",
   "link": "",
   "slug": "python-programs-design",
   "tags": "Python, Design",
   "title": "Python Programs Design",
   "type": "text"
  }
 },
 "nbformat": 4,
 "nbformat_minor": 0
}

