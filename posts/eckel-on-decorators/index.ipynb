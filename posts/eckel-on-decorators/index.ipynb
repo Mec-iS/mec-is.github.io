{
 "cells": [
  {
   "cell_type": "markdown",
   "metadata": {
    "collapsed": true
   },
   "source": [
    "<br/>\n",
    "# Python Decorators (Classes over Functions?)\n",
    " Taken From Bruce Eckel's Blog. \n",
    " All rights reserved http://bruceeckel.github.io\n",
    "<br/>\n",
    "<br/>\n",
    "NOTE: the Author states that using classes as decorators instead of functions improve readability and code refactoring, and also conceptually it is a much better solution in his opinion. I think it can be a good practice, I would like to know what a functional programmer thinks about.\n",
    "<br/>\n",
    "## Starting example\n",
    "\"The only constraint upon the object returned by the decorator is that it can be used as a function -- which basically means it must be callable. Thus, any classes we use as decorators must implement `__call__`.\"\n",
    "<br/>\n",
    "<br/>"
   ]
  },
  {
   "cell_type": "code",
   "execution_count": 2,
   "metadata": {
    "collapsed": false
   },
   "outputs": [
    {
     "name": "stdout",
     "output_type": "stream",
     "text": [
      "inside myDecorator.__init__()\n",
      "inside aFunction()\n",
      "Finished decorating aFunction()\n",
      "inside myDecorator.__call__()\n"
     ]
    }
   ],
   "source": [
    "class myDecorator(object):\n",
    "    '''\n",
    "    Typically, you'll capture the function object in the constructor and later use it in the __call__() method\n",
    "    '''\n",
    "    def __init__(self, f):\n",
    "        print(\"inside myDecorator.__init__()\")\n",
    "        f() # Prove that function definition has completed\n",
    "\n",
    "    def __call__(self):\n",
    "        print(\"inside myDecorator.__call__()\")\n",
    "\n",
    "@myDecorator\n",
    "def aFunction():\n",
    "    print(\"inside aFunction()\")\n",
    "\n",
    "print(\"Finished decorating aFunction()\")\n",
    "\n",
    "aFunction()\n"
   ]
  },
  {
   "cell_type": "markdown",
   "metadata": {},
   "source": [
    "<br/>\n",
    "<br/>\n",
    "\"When `aFunction()` is called after it has been decorated, we get completely different behavior; the `myDecorator.__call__()` method is called instead of the original code. That's because the act of decoration replaces the original function object with the result of the decoration -- in our case, the myDecorator object replaces `aFunction`.\"\n",
    "<br/>\n",
    "<br/>"
   ]
  },
  {
   "cell_type": "code",
   "execution_count": 4,
   "metadata": {
    "collapsed": false
   },
   "outputs": [
    {
     "name": "stdout",
     "output_type": "stream",
     "text": [
      "Entering func1\n",
      "inside func1()\n",
      "Exited func1\n",
      "Entering func2\n",
      "inside func2()\n",
      "Exited func2\n"
     ]
    }
   ],
   "source": [
    "# Very basic example with Class\n",
    "\n",
    "class entryExit(object):\n",
    "\n",
    "    def __init__(self, f):\n",
    "        self.f = f\n",
    "\n",
    "    def __call__(self):\n",
    "        print(\"Entering\", self.f.__name__)\n",
    "        self.f()\n",
    "        print(\"Exited\", self.f.__name__)\n",
    "\n",
    "@entryExit\n",
    "def func1():\n",
    "    print(\"inside func1()\")\n",
    "\n",
    "@entryExit\n",
    "def func2():\n",
    "    print(\"inside func2()\")\n",
    "\n",
    "func1()\n",
    "func2()"
   ]
  },
  {
   "cell_type": "code",
   "execution_count": 9,
   "metadata": {
    "collapsed": false
   },
   "outputs": [
    {
     "name": "stdout",
     "output_type": "stream",
     "text": [
      "Entering func1\n",
      "inside func1()\n",
      "Exited func1\n",
      "Entering func2\n",
      "inside func2()\n",
      "Exited func2\n",
      "new_f\n"
     ]
    }
   ],
   "source": [
    "# Turned into a Function\n",
    "\n",
    "def entryExit(f):\n",
    "    def new_f(): \n",
    "        \"\"\" Wrapping functio, closure \"\"\"\n",
    "        print(\"Entering\", f.__name__)\n",
    "        f()\n",
    "        print(\"Exited\", f.__name__)\n",
    "    return new_f\n",
    "\n",
    "@entryExit\n",
    "def func1():\n",
    "    print(\"inside func1()\")\n",
    "\n",
    "@entryExit\n",
    "def func2():\n",
    "    print(\"inside func2()\")\n",
    "    \n",
    "func1()\n",
    "func2()\n",
    "print(func1.__name__)  # it prints the name of the closure function (to correct this you can use @wraps from functools library)"
   ]
  },
  {
   "cell_type": "markdown",
   "metadata": {},
   "source": [
    "<br/>\n",
    "<br/>\n",
    "# Decorators with arguments\n",
    "\n",
    "\"Without arguments the function to be decorated is passed to the constructor, and the `__call__()` method is called whenever the decorated function is invoked.\"\n",
    "<br/>\n",
    "<br/>"
   ]
  },
  {
   "cell_type": "code",
   "execution_count": 11,
   "metadata": {
    "collapsed": false
   },
   "outputs": [
    {
     "name": "stdout",
     "output_type": "stream",
     "text": [
      "Inside __init__()\n",
      "Inside __call__()\n",
      "After decoration\n",
      "Preparing to call sayHello()\n",
      "Inside wrapped_f()\n",
      "Decorator arguments: hello world 42\n",
      "sayHello arguments: say hello argument list\n",
      "After f(*args)\n",
      "after first sayHello() call\n",
      "Inside wrapped_f()\n",
      "Decorator arguments: hello world 42\n",
      "sayHello arguments: a different set of arguments\n",
      "After f(*args)\n",
      "after second sayHello() call\n"
     ]
    }
   ],
   "source": [
    "# see what happens when we add arguments to the decorator:\n",
    "\n",
    "class decoratorWithArguments(object):\n",
    "\n",
    "    def __init__(self, arg1, arg2, arg3):\n",
    "        \"\"\"\n",
    "        If there are decorator arguments, the function\n",
    "        to be decorated is not passed to the constructor!\n",
    "        \"\"\"\n",
    "        print(\"Inside __init__()\")\n",
    "        self.arg1 = arg1\n",
    "        self.arg2 = arg2\n",
    "        self.arg3 = arg3\n",
    "\n",
    "    def __call__(self, f):\n",
    "        \"\"\"\n",
    "        If there are decorator arguments, __call__() is only called\n",
    "        once, as part of the decoration process! You can only give\n",
    "        it a single argument, which is the function object.\n",
    "        \"\"\"\n",
    "        print(\"Inside __call__()\")\n",
    "        def wrapped_f(*args): # closure that takes decorators' arguments\n",
    "            print(\"Inside wrapped_f()\")\n",
    "            print(\"Decorator arguments:\", self.arg1, self.arg2, self.arg3)\n",
    "            f(*args)\n",
    "            print(\"After f(*args)\")\n",
    "        return wrapped_f # .__call__ returns the closure\n",
    "\n",
    "@decoratorWithArguments(\"hello\", \"world\", 42)  # arguments passed to the decorator\n",
    "def sayHello(a1, a2, a3, a4):\n",
    "    print('sayHello arguments:', a1, a2, a3, a4)\n",
    "\n",
    "print(\"After decoration\")\n",
    "\n",
    "print(\"Preparing to call sayHello()\")\n",
    "sayHello(\"say\", \"hello\", \"argument\", \"list\")\n",
    "print(\"after first sayHello() call\")\n",
    "sayHello(\"a\", \"different\", \"set of\", \"arguments\")\n",
    "print(\"after second sayHello() call\")"
   ]
  },
  {
   "cell_type": "markdown",
   "metadata": {},
   "source": [
    "<br/>\n",
    "<br/>\n",
    "NOTE: instead of using `.__call__` to run the decorated function, \"you must it to perform the decoration -- it is nonetheless surprising the first time you see it because it's acting so much differently than the no-argument case, and you must code the decorator very differently from the no-argument case.\"\n",
    "<br/>\n",
    "<br/>"
   ]
  }
 ],
 "metadata": {
  "kernelspec": {
   "display_name": "Python 3",
   "language": "python",
   "name": "python3"
  },
  "language_info": {
   "codemirror_mode": {
    "name": "ipython",
    "version": 3
   },
   "file_extension": ".py",
   "mimetype": "text/x-python",
   "name": "python",
   "nbconvert_exporter": "python",
   "pygments_lexer": "ipython3",
   "version": "3.3.5rc1"
  },
  "nikola": {
   "category": "",
   "date": "2015-07-21 21:27:30 UTC+02:00",
   "description": "",
   "link": "",
   "slug": "eckel-on-decorators",
   "tags": "Python, Functional, Decorators",
   "title": "Eckel on Decorators",
   "type": "text"
  }
 },
 "nbformat": 4,
 "nbformat_minor": 0
}
