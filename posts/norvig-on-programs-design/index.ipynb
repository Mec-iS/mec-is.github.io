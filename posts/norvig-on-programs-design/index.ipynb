{
 "cells": [
  {
   "cell_type": "markdown",
   "metadata": {},
   "source": [
    "# Python Programs Design\n",
    " Inspired by Peter Norvig's course at Udacity<br/>\n",
    " https://www.udacity.com/course/design-of-computer-programs--cs212\n",
    "\n",
    "\n",
    "## Workflow\n",
    "**??**&nbsp;&nbsp;&nbsp;>&nbsp;&nbsp;&nbsp;**problem**&nbsp;&nbsp;&nbsp;&nbsp;&nbsp;&nbsp;>&nbsp;&nbsp;&nbsp;&nbsp;&nbsp;&nbsp;**spec**&nbsp;&nbsp;&nbsp;&nbsp;&nbsp;&nbsp;>&nbsp;&nbsp;&nbsp;&nbsp;&nbsp;&nbsp;**code**<br/>\n",
    "&nbsp;*understand*&nbsp;&nbsp;&nbsp;&nbsp;&nbsp;&nbsp;&nbsp;&nbsp;*specify*&nbsp;&nbsp;&nbsp;&nbsp;&nbsp;&nbsp;&nbsp;&nbsp;&nbsp;&nbsp;&nbsp;&nbsp;&nbsp;*design*    \n",
    "\n",
    " Starting from a relative understanding of a problem/task we *specify* how things work in the domain of the problem, to *design* code that solve the problem or realize the task\n",
    "\n",
    "### Barebone\n",
    "1. Explain to yourself and in a team the task/problem\n",
    "2. Reach a written/unformal specification of the task, defining sequential sub-tasks or complementary functions to solve the problem\n",
    "3. Design your code to solve tasks and sub-tasks, minding best practices (or design patterns)\n",
    "4. Code\n",
    "5. Iterate with adjustments and tests\n",
    "\n",
    "\n",
    "### Code\n",
    "1. write down a function name that realize a sub-task\n",
    "2. write the docstring for the function\n",
    "3. find the best built-in functions or libraries to realize the task in the function (forget optimization for now, try to be idiomatic and use the fittest tools)\n",
    "4. write different functions depending on your style (functional, object oriented)\n",
    "5. Accomplish the task by defining a \"main\" script that uses the functions\n",
    "\n",
    "### Example\n",
    " We are going to use the example of simulating a Poker game as a playground for a program design:\n"
   ]
  },
  {
   "cell_type": "code",
   "execution_count": 5,
   "metadata": {
    "collapsed": false
   },
   "outputs": [
    {
     "name": "stdout",
     "output_type": "stream",
     "text": [
      "5\n",
      "-5\n"
     ]
    }
   ],
   "source": [
    "def poker(hands):                   # function name\n",
    "    \"\"\" Return the best hand: poker([hand, ..]) => hand \"\"\"  # docstring\n",
    "    return max()                    # the fittest function to return the maximum value in Python is max()\n",
    "\n",
    "print(max([3, 4, 5, 0]))            # study from the documentation the behaviour of the function\n",
    "print(max([3, 4, -5, 0], key=abs))  # https://docs.python.org/3.3/library/functions.html#max"
   ]
  },
  {
   "cell_type": "markdown",
   "metadata": {},
   "source": [
    " **A program is a set of functions, classes and operations working to solve/realize the same problem/task**\n",
    "\n",
    "NOTE: Python3 basic built-ins https://docs.python.org/3.3/library/functions.html"
   ]
  },
  {
   "cell_type": "markdown",
   "metadata": {},
   "source": [
    "### Best use of Python design principles\n",
    "\n",
    "Going on we will get familiar with Python design principles and we will know how to use the tools the language provides. Let's see how it is possible by introducing in our design a function to define ranks for hands in a poker game.  \n",
    "\n",
    "NOTE: **LPD** stands for Leveraging Python Design, in this kind of tip I try to underline how we can design Python programs leveraging peculiar features of Python builtins or language or idioms.\n"
   ]
  },
  {
   "cell_type": "code",
   "execution_count": 1,
   "metadata": {
    "collapsed": true
   },
   "outputs": [],
   "source": [
    "def hand_rank(hand):\n",
    "    \"\"\" Return the rank(\"point\") of an hand: hand => rank according to poker rules \n",
    "    ranks = { nothing: 0, pair: 1, double pair: 2, ..., full house: 6, four of a kind: 7, ... } \"\"\"\n",
    "    return None # by now it is not implemented, see https://youtu.be/WYHN2HfPISY if you want more details\n",
    "\n",
    "# How can we return the hand with the best ranking from a list of hands \n",
    "\n",
    "def poker(hands):                   \n",
    "    \"\"\" Return the best hand: [hand, ..] => hand \"\"\" \n",
    "    return max(hands, key=hand_rank)  # use of a custom function as a key for max()\n"
   ]
  },
  {
   "cell_type": "markdown",
   "metadata": {},
   "source": [
    "**LPD**: If we use the 'key' argument in max() we can find the max value coming out from the hand_rank() this is an example of how a Python function fits perfectly to solve a sub-task for our problem."
   ]
  },
  {
   "cell_type": "markdown",
   "metadata": {},
   "source": [
    "### Testing\n",
    "\"To be a good programmer you need to be a good tester\". "
   ]
  },
  {
   "cell_type": "code",
   "execution_count": null,
   "metadata": {
    "collapsed": true
   },
   "outputs": [],
   "source": [
    "def test():\n",
    "    \"\"\" Test for poker() function \"\"\"\n",
    "    sf = \"6C 7C 8C 9C TC\".split()   # straight flush\n",
    "    fk = \"9D 9H 9S 9C TD\".split()   # four of a kind\n",
    "    fh = \"TC TD TH 9C 9h\".split()   # full house\n",
    "    assert poker([sf, fk, fh]) == sf\n",
    "    return \"test passed\"\n",
    "    "
   ]
  },
  {
   "cell_type": "markdown",
   "metadata": {},
   "source": [
    "\"one of the secret of testing is to do extreme value\"."
   ]
  },
  {
   "cell_type": "code",
   "execution_count": null,
   "metadata": {
    "collapsed": true
   },
   "outputs": [],
   "source": [
    "def test():\n",
    "    \"\"\" Test for poker() function \"\"\"\n",
    "    sf = \"6C 7C 8C 9C TC\".split()   # straight flush\n",
    "    fk = \"9D 9H 9S 9C TD\".split()   # four of a kind\n",
    "    fh = \"TC TD TH 9C 9h\".split()   # full house\n",
    "    assert poker([sf, fk, fh]) == sf\n",
    "    assert poker([sf, sf]) == sf        # extreme case, a hand challenging itself\n",
    "    assert poker([sf] + 99*[fh]) == sg  # extreme case, a hand challenging 99 other hands\n",
    "    return 'test pass'"
   ]
  },
  {
   "cell_type": "markdown",
   "metadata": {},
   "source": [
    "This is the starting design for `hand_rank()`:"
   ]
  },
  {
   "cell_type": "code",
   "execution_count": null,
   "metadata": {
    "collapsed": true
   },
   "outputs": [],
   "source": [
    "def hand_rank(hand):\n",
    "    \"\"\" Return a tuple describing the hand, to make hands comparable.\n",
    "    kind(), straight() and flush() are not yet implemented, they are functions that spot card ranks.\n",
    "    card_ranks() is not yet implemented also, it turns hands in card ranks (see test()) \"\"\"\n",
    "    ranks = card_ranks(hand)\n",
    "    if straight(ranks) and flush(hand):            # straight flush, (8, higher card, [card, card, card, card, card])\n",
    "        return (8, max(ranks))\n",
    "    elif kind(4, ranks):                           # 4 of a kind, (7, card, kicker)\n",
    "        return (7, kind(4, ranks), kind(1, ranks))\n",
    "    elif kind(3, ranks) and kind(2, ranks):        # full house, (6, higher card, lower card)\n",
    "        return (6, kind(3,ranks), kind(2, ranks))\n",
    "    elif flush(hand):                              # flush, (5, higher card, [card, card, card, card, card])\n",
    "        return (5, max(hand))\n",
    "    elif straight(ranks):                          # straight, (4, higher card)\n",
    "        return (4, kind(5, ranks))\n",
    "    elif kind(3, ranks):                           # 3 of a kind, (3, card, kickers)\n",
    "        return (3, kind(3, ranks),kind(2, ranks))\n",
    "    elif two_pair(ranks):                          # 2 pair, (...)\n",
    "        return (2, kind(2, ranks), kind(2,ranks), kind(1, ranks))\n",
    "    elif kind(2, ranks):                           # kind, (...)\n",
    "        return (1, ranks)\n",
    "    else:                                          # high card (...)\n",
    "        return (0, ranks)\n",
    "\n",
    "def test():\n",
    "    \"Test cases for the functions in poker program\"\n",
    "    sf = \"6C 7C 8C 9C TC\".split() # Straight Flush\n",
    "    fk = \"9D 9H 9S 9C 7D\".split() # Four of a Kind\n",
    "    fh = \"TD TC TH 7C 7D\".split() # Full House\n",
    "    assert poker([sf, fk, fh]) == sf\n",
    "    assert poker([fk, fh]) == fk\n",
    "    assert poker([fh, fh]) == fh\n",
    "    assert poker([sf]) == sf\n",
    "    assert poker([sf] + 99*[fh]) == sf\n",
    "    assert hand_rank(sf) == (8, 10)\n",
    "    assert hand_rank(fk) == (7, 9, 7)\n",
    "    assert hand_rank(fh) == (6, 10, 7)\n",
    "    assert card_ranks(sf) == [10, 9, 8, 7, 6]\n",
    "    assert card_ranks(fk) == [9, 9, 9, 9, 7]\n",
    "    assert card_ranks(fh) == [10, 10, 10, 7, 7]\n",
    "    return 'tests pass'"
   ]
  },
  {
   "cell_type": "markdown",
   "metadata": {},
   "source": [
    "**LPD**: Tuples have been choosen as structure for describing the hands, in general `(rank, higher card, tie breakers)`. Each rank has its own definition. Ranks can be compared using Python's tuples and 'lexigraphical' operators:"
   ]
  },
  {
   "cell_type": "code",
   "execution_count": 4,
   "metadata": {
    "collapsed": false
   },
   "outputs": [
    {
     "name": "stdout",
     "output_type": "stream",
     "text": [
      "True\n",
      "True\n"
     ]
    }
   ],
   "source": [
    "print('hello' < 'help') # >>> True\n",
    "print((8, 5) > (8, 3))  # >>> True \n",
    "\n",
    "# a straight flush with 5 higher card has an higher rank compared to a straight flush with 3 higher card "
   ]
  },
  {
   "cell_type": "markdown",
   "metadata": {},
   "source": [
    "**LPD**: The design choice of using `int` and `tuples` to describe ranks and hands sounds good because it leverages tuples comparision and built-in features in `max()`.  \n",
    "\n",
    "### From hands to card ranks\n",
    "Let's see how we can add another piece to the puzzle by defining `card_ranks()`:"
   ]
  },
  {
   "cell_type": "code",
   "execution_count": null,
   "metadata": {
    "collapsed": true
   },
   "outputs": [],
   "source": [
    "mapping = { 'T': 10, 'J': 11, 'Q': 12, 'K':13, 'A':14 }\n",
    "\n",
    "def card_ranks(cards):\n",
    "    \"Return a list of the ranks, sorted with higher first (maps faces to integers also, to allow easier comparision).\"\n",
    "    ranks = [int(r) if r not in mapping.keys() else mapping[r] for r,s in cards] \n",
    "    ranks.sort(reverse=True)\n",
    "    return ranks\n",
    "\n",
    "print(card_ranks(['AC', '3D', '4S', 'KH'])) # should output [14, 13, 4, 3]\n",
    "\n",
    "# Peter Norvig's way to define 'ranks' variable:\n",
    "# ranks = ['--23456789TJQKA'.index(r) for r,s in cards]"
   ]
  },
  {
   "cell_type": "markdown",
   "metadata": {},
   "source": [
    "### Spot a point in hands\n",
    "Let's see how we can add other functions to the design by defining the methods to spot poker rankings into a ranked hand, stuff like `kind()`, `straight()`, `flush()`, `two_pair()`. First we add something to our `test()`:"
   ]
  },
  {
   "cell_type": "code",
   "execution_count": null,
   "metadata": {
    "collapsed": true
   },
   "outputs": [],
   "source": [
    "def test():\n",
    "    \"Test cases for the functions in poker program\"\n",
    "    sf = \"6C 7C 8C 9C TC\".split() # Straight Flush\n",
    "    fk = \"9D 9H 9S 9C 7D\".split() # Four of a Kind\n",
    "    fh = \"TD TC TH 7C 7D\".split() # Full House\n",
    "    assert poker([sf, fk, fh]) == sf\n",
    "    assert poker([fk, fh]) == fk\n",
    "    assert poker([fh, fh]) == fh\n",
    "    assert poker([sf]) == sf\n",
    "    assert poker([sf] + 99*[fh]) == sf\n",
    "    assert hand_rank(sf) == (8, 10)\n",
    "    assert hand_rank(fk) == (7, 9, 7)\n",
    "    assert hand_rank(fh) == (6, 10, 7)\n",
    "    assert card_ranks(sf) == [10, 9, 8, 7, 6]\n",
    "    assert card_ranks(fk) == [9, 9, 9, 9, 7]\n",
    "    assert card_ranks(fh) == [10, 10, 10, 7, 7]\n",
    "    assert straight([9, 8, 7, 6, 5]) == True    # new\n",
    "    assert straight([9, 8, 8, 6, 5]) == False   # new\n",
    "    assert flush(sf) == True        # new\n",
    "    assert flush(fk) == False       # new\n",
    "    return 'tests pass'"
   ]
  },
  {
   "cell_type": "code",
   "execution_count": 19,
   "metadata": {
    "collapsed": false
   },
   "outputs": [
    {
     "name": "stdout",
     "output_type": "stream",
     "text": [
      "False\n",
      "True\n"
     ]
    }
   ],
   "source": [
    "def straight(ranks):\n",
    "    \"Return True if the ordered ranks form a 5-card straight. NOTE: It takes a ranked hands as input\"\n",
    "    # Your code here.\n",
    "    ranks = iter(sorted(ranks, reverse=True))     # using iterator protocol\n",
    "    value = next(ranks)                           # store the current value of iterator \n",
    "    for _ in range(4):\n",
    "        nxt = next(ranks)                         # get the next element in the iteration\n",
    "        if value - nxt != 1:                      # if the difference between consecutive elements is more than 1\n",
    "            return False\n",
    "        value = nxt                               # the next become the current\n",
    "    return True\n",
    "\n",
    "print(straight([9, 8, 8, 6, 5]))\n",
    "print(straight([9, 8, 7, 6, 5]))\n",
    "\n",
    "# Peter Norvig's way:\n",
    "# def straight(ranks):\n",
    "#     return (max(ranks)-min(ranks) == 4) and len(set(ranks)) == 5"
   ]
  },
  {
   "cell_type": "code",
   "execution_count": 31,
   "metadata": {
    "collapsed": false
   },
   "outputs": [
    {
     "name": "stdout",
     "output_type": "stream",
     "text": [
      "False\n"
     ]
    }
   ],
   "source": [
    "def flush(hand):\n",
    "    \"Return True if all the cards have the same suit. NOTE: It takes an hand as input, not the ranked hands\"\n",
    "    suit = hand[0][1]\n",
    "    for n, h in hand:                 # Note the string selection directly in the for loop \n",
    "        if h != suit: return False\n",
    "    return True\n",
    "\n",
    "print(flush(\"6C 7C 8C 9C TC\".split()))        # new\n",
    "\n",
    "# Peter Norvig's way:\n",
    "# def flush(hand):\n",
    "#    suits = [s for r, s in hand]     # Note the string selection in the for loop \n",
    "#    return len(set(suits)) == 1"
   ]
  },
  {
   "cell_type": "code",
   "execution_count": 51,
   "metadata": {
    "collapsed": false
   },
   "outputs": [
    {
     "name": "stdout",
     "output_type": "stream",
     "text": [
      "[10, 5]\n"
     ]
    },
    {
     "data": {
      "text/plain": [
       "'tests pass'"
      ]
     },
     "execution_count": 51,
     "metadata": {},
     "output_type": "execute_result"
    }
   ],
   "source": [
    "def card_ranks(cards):\n",
    "    \"Return a list of the ranks, sorted with higher first (maps faces to integers also, to allow easier comparision).\"\n",
    "    mapping = { 'T': 10, 'J': 11, 'Q': 12, 'K':13, 'A':14 }\n",
    "    ranks = [int(r) if r not in mapping.keys() else mapping[r] for r,s in cards] \n",
    "    ranks.sort(reverse=True)\n",
    "    return ranks\n",
    "\n",
    "def test():\n",
    "    \"Test cases for spotting cards of the same kind in a hand.\"\n",
    "    sf = \"6C 7C 8C 9C TC\".split() # Straight Flush\n",
    "    fk = \"9D 9H 9S 9C 7D\".split() # Four of a Kind\n",
    "    fh = \"TD TC TH 7C 7D\".split() # Full House\n",
    "    tp = \"TD TH 5C 8H 5H\".split()\n",
    "    fkranks = card_ranks(fk)\n",
    "    tpranks = card_ranks(tp)\n",
    "    assert kind(4, fkranks) == 9                 # test for 4-of-a-kind\n",
    "    assert kind(3, fkranks) == None              # test for 3-of-a-kind\n",
    "    assert kind(2, fkranks) == None              # test for 2-of-a-kind\n",
    "    assert kind(1, fkranks) == 7                 # test for higher card\n",
    "    assert two_pair(card_ranks(tp)) == (10, 5)   # test for two_pair(), to check if there is a double 2-of-a-kind\n",
    "    return 'tests pass'\n",
    "\n",
    "def kind(n, ranks):\n",
    "    \"\"\"Return the first rank that this hand has exactly n of.\n",
    "    Return None if there is no n-of-a-kind in the hand.\"\"\"\n",
    "    setk = set(ranks)\n",
    "    for item in setk:\n",
    "        if ranks.count(item) == n:\n",
    "            return item\n",
    "    return None\n",
    "\n",
    "def two_pair(ranks):\n",
    "    \"\"\"If there are two pair, return the two ranks as a\n",
    "    tuple: (highest, lowest); otherwise return None.\"\"\"\n",
    "    if len(ranks) == len(set(ranks)): return None  # all cards are different >> return None\n",
    "    two_of = []\n",
    "    for r in ranks:\n",
    "        if ranks.count(r) == 2 and r not in two_of: two_of.append(r)\n",
    "    if len(two_of) == 1: return None\n",
    "    return tuple(two_of)\n",
    "\n",
    "test()\n",
    "\n",
    "# Peter Norvig's way:\n",
    "# def kind(n, ranks):\n",
    "#    for r in ranks:\n",
    "#        if ranks.count(r) == n: return r\n",
    "#    return None\n",
    "# def two_pair(ranks):\n",
    "#    pair = kind(2, ranks)\n",
    "#    lowpair = kind(2, list(reversed(ranks)))\n",
    "#    if pair and lowpair != pair:\n",
    "#        retutn (pair, lowpair)\n",
    "#    else:\n",
    "#        return None"
   ]
  },
  {
   "cell_type": "markdown",
   "metadata": {},
   "source": [
    "### Testing is never enough\n",
    "All the rankings are up and working, but we need **more tests** to handle edge cases and exceptions.\n",
    "\n",
    "This is only Lesson 1!\n",
    "\n",
    "- How would you handle a straight with Axe low (A, 2, 3, 4, 5)?\n",
    "- How would you handle ties?\n",
    "- How would you deal poker hands to simulate a game?\n",
    "\n",
    "Complete course at [Udacity](https://www.udacity.com/course/design-of-computer-programs--cs212) for free.\n"
   ]
  },
  {
   "cell_type": "code",
   "execution_count": null,
   "metadata": {
    "collapsed": true
   },
   "outputs": [],
   "source": [
    "# https://github.com/faif/python-patterns\n",
    "# https://github.com/davidcorne/Design-Patterns-In-Python"
   ]
  }
 ],
 "metadata": {
  "kernelspec": {
   "display_name": "Python 3",
   "language": "python",
   "name": "python3"
  },
  "language_info": {
   "codemirror_mode": {
    "name": "ipython",
    "version": 3
   },
   "file_extension": ".py",
   "mimetype": "text/x-python",
   "name": "python",
   "nbconvert_exporter": "python",
   "pygments_lexer": "ipython3",
   "version": "3.3.5rc1"
  },
  "nikola": {
   "category": "Python",
   "date": "2015-07-22 19:30:15 UTC+02:00",
   "description": "",
   "link": "",
   "slug": "norvig-on-programs-design",
   "tags": "Software Design",
   "title": "Norvig on Programs Design",
   "type": "text"
  }
 },
 "nbformat": 4,
 "nbformat_minor": 0
}

