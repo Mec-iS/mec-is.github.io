{
 "cells": [
  {
   "cell_type": "markdown",
   "metadata": {},
   "source": [
    "# A Brainstorm before starting\n",
    "Taken from: Julien Danjou's Hacker's Guide To Python\n"
   ]
  },
  {
   "cell_type": "code",
   "execution_count": 2,
   "metadata": {
    "collapsed": false
   },
   "outputs": [
    {
     "name": "stdout",
     "output_type": "stream",
     "text": [
      "The Zen of Python, by Tim Peters\n",
      "\n",
      "Beautiful is better than ugly.\n",
      "Explicit is better than implicit.\n",
      "Simple is better than complex.\n",
      "Complex is better than complicated.\n",
      "Flat is better than nested.\n",
      "Sparse is better than dense.\n",
      "Readability counts.\n",
      "Special cases aren't special enough to break the rules.\n",
      "Although practicality beats purity.\n",
      "Errors should never pass silently.\n",
      "Unless explicitly silenced.\n",
      "In the face of ambiguity, refuse the temptation to guess.\n",
      "There should be one-- and preferably only one --obvious way to do it.\n",
      "Although that way may not be obvious at first unless you're Dutch.\n",
      "Now is better than never.\n",
      "Although never is often better than *right* now.\n",
      "If the implementation is hard to explain, it's a bad idea.\n",
      "If the implementation is easy to explain, it may be a good idea.\n",
      "Namespaces are one honking great idea -- let's do more of those!\n"
     ]
    }
   ],
   "source": [
    "import this"
   ]
  },
  {
   "cell_type": "code",
   "execution_count": 1,
   "metadata": {
    "collapsed": false
   },
   "outputs": [
    {
     "data": {
      "text/plain": [
       "('_ast',\n",
       " '_bisect',\n",
       " '_codecs',\n",
       " '_codecs_cn',\n",
       " '_codecs_hk',\n",
       " '_codecs_iso2022',\n",
       " '_codecs_jp',\n",
       " '_codecs_kr',\n",
       " '_codecs_tw',\n",
       " '_collections',\n",
       " '_csv',\n",
       " '_datetime',\n",
       " '_functools',\n",
       " '_heapq',\n",
       " '_imp',\n",
       " '_io',\n",
       " '_json',\n",
       " '_locale',\n",
       " '_lsprof',\n",
       " '_md5',\n",
       " '_multibytecodec',\n",
       " '_pickle',\n",
       " '_random',\n",
       " '_sha1',\n",
       " '_sha256',\n",
       " '_sha512',\n",
       " '_sre',\n",
       " '_string',\n",
       " '_struct',\n",
       " '_symtable',\n",
       " '_thread',\n",
       " '_warnings',\n",
       " '_weakref',\n",
       " '_winapi',\n",
       " 'array',\n",
       " 'atexit',\n",
       " 'audioop',\n",
       " 'binascii',\n",
       " 'builtins',\n",
       " 'cmath',\n",
       " 'errno',\n",
       " 'faulthandler',\n",
       " 'gc',\n",
       " 'itertools',\n",
       " 'marshal',\n",
       " 'math',\n",
       " 'mmap',\n",
       " 'msvcrt',\n",
       " 'nt',\n",
       " 'operator',\n",
       " 'parser',\n",
       " 'signal',\n",
       " 'sys',\n",
       " 'time',\n",
       " 'winreg',\n",
       " 'xxsubtype',\n",
       " 'zipimport',\n",
       " 'zlib')"
      ]
     },
     "execution_count": 1,
     "metadata": {},
     "output_type": "execute_result"
    }
   ],
   "source": [
    "import sys\n",
    "\n",
    "sys.builtin_module_names"
   ]
  },
  {
   "cell_type": "code",
   "execution_count": 3,
   "metadata": {
    "collapsed": false
   },
   "outputs": [
    {
     "name": "stdout",
     "output_type": "stream",
     "text": [
      "120\n"
     ]
    }
   ],
   "source": [
    "from itertools import permutations\n",
    "\n",
    "print(sum(1 for _ in permutations([1, 2, 3, 4, 5])))"
   ]
  },
  {
   "cell_type": "markdown",
   "metadata": {},
   "source": [
    "\"Whenever you are about to write our own function to handle a simple task, please **stop** and look through the standard library first.\""
   ]
  },
  {
   "cell_type": "markdown",
   "metadata": {},
   "source": [
    "\"There’s a few of the standard modules that you should definitely know about:\n",
    "\n",
    "- operator: provides functions implementing the basic Python operators which you can use instead of having t owrite your own lambda expressions\n",
    "- os: provides access to basic OS functions. \n",
    "- random: provides functions for generating pseudo-random numbers. \n",
    "- re: provides regular expression functionalities.\n",
    "- functools\n",
    "- iterators\n",
    "- uuid: allows to autogenerate UUIDs(Universall Unique Identifiers).\"\n"
   ]
  },
  {
   "cell_type": "markdown",
   "metadata": {},
   "source": [
    "## Fixtures\n",
    "\n",
    "\"In unit testing, **fixtures** represent components that are set up before a test, and cleaned up ater the test is done. It’s usually a good idea to build a special kind of component for them.\"\n",
    "\n",
    "### Basics"
   ]
  },
  {
   "cell_type": "code",
   "execution_count": null,
   "metadata": {
    "collapsed": true
   },
   "outputs": [],
   "source": [
    "## Unittest setUp() and tearDown(). Running code before and after unittest\n",
    "\n",
    "import unittest\n",
    "\n",
    "class TestMe(unittest.TestCase): \n",
    "    def setUp(self): \n",
    "        self.list = [1, 2, 3]\n",
    "    \n",
    "    def test_length(self): \n",
    "        self.list.append(4) \n",
    "        self.assertEqual(len(self.list), 4)\n",
    "    \n",
    "    def test_has_one(self): \n",
    "        self.assertEqual(len(self.list), 3) \n",
    "        self.assertIn(1, self.list)"
   ]
  },
  {
   "cell_type": "markdown",
   "metadata": {},
   "source": [
    "### fixtures module\n",
    "\n",
    "\"The fixtures module provides a few built-in fixtures, like `fixtures.Environment` Variable – useful for adding or changing a variable in `os.environ` that will be reset upon test exit.\" "
   ]
  },
  {
   "cell_type": "code",
   "execution_count": 9,
   "metadata": {
    "collapsed": false
   },
   "outputs": [],
   "source": [
    "import fixtures # not part of the standard library\n",
    "import os\n",
    "\n",
    "class TestEnviron(fixtures.TestWithFixtures): # inherits from unittest TestCase\n",
    "    def test_environ(self): \n",
    "        fixture = self.useFixture(fixtures.EnvironmentVariable(\"FOOBAR\", \"42\")) \n",
    "        self.assertEqual(os.environ.get(\"FOOBAR\"), \"42\")\n",
    "    def test_environ_no_fixture(self): \n",
    "        self.assertEqual(os.environ.get(\"FOOBAR\"), None)\n"
   ]
  },
  {
   "cell_type": "markdown",
   "metadata": {},
   "source": [
    "### Mocking\n",
    "\"Mock objects are simulated objects that mimic the behaviour of real application objects, but in particular and controlled ways. These are especially useful in creating environments that describe precisely the conditions for which you would like to testcode\""
   ]
  },
  {
   "cell_type": "code",
   "execution_count": 11,
   "metadata": {
    "collapsed": false
   },
   "outputs": [
    {
     "name": "stdout",
     "output_type": "stream",
     "text": [
      "42\n",
      "hello world!\n",
      "43\n"
     ]
    },
    {
     "data": {
      "text/plain": [
       "2"
      ]
     },
     "execution_count": 11,
     "metadata": {},
     "output_type": "execute_result"
    }
   ],
   "source": [
    "from unittest import mock \n",
    "\n",
    "m = mock.Mock() \n",
    "m.some_method.return_value = 42 \n",
    "\n",
    "print(m.some_method())\n",
    "\n",
    "def print_hello():\n",
    "    print(\"hello world!\") \n",
    "    return 43 \n",
    "\n",
    "m.some_method.side_effect = print_hello \n",
    "\n",
    "print(m.some_method())\n",
    "\n",
    "m.some_method.call_count  # stats on method calling"
   ]
  },
  {
   "cell_type": "markdown",
   "metadata": {},
   "source": [
    "Example: Using `mock.patch` to test a set of behaviour"
   ]
  },
  {
   "cell_type": "code",
   "execution_count": null,
   "metadata": {
    "collapsed": true
   },
   "outputs": [],
   "source": [
    "import requests \n",
    "import unittest \n",
    "import mock\n",
    "\n",
    "class WhereIsPythonError(Exception): \n",
    "    pass\n",
    "\n",
    "def is_python_still_a_programming_language(): \n",
    "    try: \n",
    "        r = requests.get(\"http://python.org\") \n",
    "    except IOError: \n",
    "        pass \n",
    "    else: \n",
    "        if r.status_code == 200: \n",
    "            return 'Python is a programming language' in r.content \n",
    "    raise WhereIsPythonError(\"Something bad happened\")\n",
    "        \n",
    "def get_fake_get(status_code, content): \n",
    "    m = mock.Mock() \n",
    "    m.status_code = status_code \n",
    "    m.content = content \n",
    "    def fake_get(url): \n",
    "        return m \n",
    "    return fake_get\n",
    "\n",
    "def raise_get(url): \n",
    "    raise IOError(\"Unable to fetch url %s\" % url)\n",
    "    \n",
    "class TestPython(unittest.TestCase): \n",
    "    @mock.patch('requests.get', get_fake_get(200, 'Python is a programming language for sure')) \n",
    "    def test_python_is(self): \n",
    "        self.assertTrue(is_python_still_a_programming_language())\n",
    "        \n",
    "    @mock.patch('requests.get', get_fake_get( 200, 'Python is no more a programming language')) \n",
    "    def test_python_is_not(self): \n",
    "        self.assertFalse(is_python_still_a_programming_language())\n",
    "\n",
    "    @mock.patch('requests.get', get_fake_get( 404, 'Whatever')) \n",
    "    def test_bad_status_code(self): \n",
    "        self.assertRaises(WhereIsPythonError, is_python_still_a_programming_language)\n",
    "\n",
    "    @mock.patch('requests.get', raise_get) \n",
    "    def test_ioerror(self): \n",
    "        self.assertRaises(WhereIsPythonError, is_python_still_a_programming_language)\n"
   ]
  },
  {
   "cell_type": "markdown",
   "metadata": {},
   "source": [
    "### Scenarios\n",
    "\"This package provides an easy way to run a class test against a different set of scenarios generated at run-time.\"\n",
    "Same example as in Mocking, the test runs three times because three scenarios are defined:"
   ]
  },
  {
   "cell_type": "code",
   "execution_count": null,
   "metadata": {
    "collapsed": true
   },
   "outputs": [],
   "source": [
    "import mock \n",
    "import requests \n",
    "import testscenarios\n",
    "\n",
    "class WhereIsPythonError(Exception): \n",
    "    pass\n",
    "\n",
    "def is_python_still_a_programming_language(): \n",
    "    r = requests.get(\"http://python.org\") \n",
    "    if r.status_code == 200: \n",
    "        return 'Python is a programming language' in r.content \n",
    "    raise WhereIsPythonError(\"Something bad happened\")\n",
    "\n",
    "def get_fake_get(status_code, content): \n",
    "    m = mock.Mock() \n",
    "    m.status_code = status_code\n",
    "    m.content = content \n",
    "    def fake_get(url): \n",
    "        return m \n",
    "    return fake_get\n",
    "\n",
    "class TestPythonErrorCode(testscenarios.TestWithScenarios): \n",
    "    scenarios = [ ('Not found', dict(status=404)), \n",
    "                  ('Client error', dict(status=400)), \n",
    "                  ('Server error', dict(status=500)), ]\n",
    "    \n",
    "    def test_python_status_code_handling(self): \n",
    "        with mock.patch('requests.get', get_fake_get( self.status, 'Python is a programming language for sure')): \n",
    "            self.assertRaises(WhereIsPythonError, is_python_still_a_programming_language)\n"
   ]
  },
  {
   "cell_type": "markdown",
   "metadata": {},
   "source": [
    "### Profiling "
   ]
  },
  {
   "cell_type": "code",
   "execution_count": 7,
   "metadata": {
    "collapsed": false
   },
   "outputs": [
    {
     "name": "stdout",
     "output_type": "stream",
     "text": [
      "hello world!\n",
      "here\n",
      "         501 function calls (497 primitive calls) in 1.005 seconds\n",
      "\n",
      "   Ordered by: standard name\n",
      "\n",
      "   ncalls  tottime  percall  cumtime  percall filename:lineno(function)\n",
      "        1    0.000    0.000    1.005    1.005 <ipython-input-7-04c863fb3a13>:4(print_hello)\n",
      "        1    0.000    0.000    1.004    1.004 <ipython-input-7-04c863fb3a13>:5(print_it)\n",
      "        1    0.000    0.000    1.005    1.005 <string>:1(<module>)\n",
      "        4    0.000    0.000    0.002    0.001 __init__.py:274(dumps)\n",
      "        1    0.000    0.000    0.000    0.000 attrsettr.py:35(__getattr__)\n",
      "        1    0.000    0.000    0.000    0.000 cp1252.py:11(encode)\n",
      "        4    0.000    0.000    0.000    0.000 encoder.py:120(__init__)\n",
      "        4    0.000    0.000    0.002    0.000 encoder.py:248(encode)\n",
      "        4    0.000    0.000    0.000    0.000 encoder.py:277(iterencode)\n",
      "        4    0.000    0.000    0.000    0.000 encoder.py:380(_make_iterencode)\n",
      "       26    0.000    0.000    0.000    0.000 encoder.py:41(encode_basestring)\n",
      "        1    0.000    0.000    0.000    0.000 encoder.py:51(replace)\n",
      "       60    0.000    0.000    0.001    0.000 encoder.py:513(_iterencode_dict)\n",
      "    64/60    0.000    0.000    0.002    0.000 encoder.py:600(_iterencode)\n",
      "        1    0.000    0.000    0.000    0.000 hmac.py:114(hexdigest)\n",
      "        4    0.000    0.000    0.000    0.000 hmac.py:75(update)\n",
      "        1    0.000    0.000    0.000    0.000 hmac.py:82(copy)\n",
      "        1    0.000    0.000    0.000    0.000 hmac.py:95(_current)\n",
      "        5    0.000    0.000    0.000    0.000 iostream.py:102(_check_mp_mode)\n",
      "        1    0.000    0.000    0.000    0.000 iostream.py:123(_flush_from_subprocesses)\n",
      "        1    0.000    0.000    0.003    0.003 iostream.py:151(flush)\n",
      "        4    0.000    0.000    0.003    0.001 iostream.py:207(write)\n",
      "        1    0.000    0.000    0.000    0.000 iostream.py:238(_flush_buffer)\n",
      "        1    0.000    0.000    0.000    0.000 iostream.py:247(_new_buffer)\n",
      "        6    0.000    0.000    0.000    0.000 iostream.py:93(_is_master_process)\n",
      "        1    0.000    0.000    0.000    0.000 iostream.py:96(_is_master_thread)\n",
      "        4    0.000    0.000    0.002    0.001 jsonapi.py:31(dumps)\n",
      "        1    0.000    0.000    0.000    0.000 jsonutil.py:102(date_default)\n",
      "        1    0.000    0.000    0.000    0.000 poll.py:77(poll)\n",
      "        1    0.000    0.000    0.000    0.000 py3compat.py:18(encode)\n",
      "        1    0.000    0.000    0.000    0.000 session.py:195(msg_header)\n",
      "        1    0.000    0.000    0.000    0.000 session.py:200(extract_header)\n",
      "        1    0.000    0.000    0.000    0.000 session.py:441(msg_id)\n",
      "        1    0.000    0.000    0.000    0.000 session.py:493(msg_header)\n",
      "        1    0.000    0.000    0.000    0.000 session.py:496(msg)\n",
      "        1    0.000    0.000    0.000    0.000 session.py:515(sign)\n",
      "        1    0.000    0.000    0.002    0.002 session.py:530(serialize)\n",
      "        1    0.000    0.000    0.003    0.003 session.py:589(send)\n",
      "        1    0.000    0.000    0.000    0.000 session.py:655(<listcomp>)\n",
      "        4    0.000    0.000    0.002    0.001 session.py:84(<lambda>)\n",
      "        1    0.000    0.000    0.000    0.000 socket.py:289(send_multipart)\n",
      "        1    0.000    0.000    0.000    0.000 threading.py:1055(ident)\n",
      "        1    0.000    0.000    0.000    0.000 threading.py:1204(current_thread)\n",
      "       13    0.000    0.000    0.000    0.000 traitlets.py:395(__get__)\n",
      "        1    0.000    0.000    0.000    0.000 uuid.py:104(__init__)\n",
      "        1    0.000    0.000    0.000    0.000 uuid.py:230(__str__)\n",
      "        1    0.000    0.000    0.000    0.000 uuid.py:563(uuid4)\n",
      "        1    0.000    0.000    0.000    0.000 {built-in method __new__ of type object at 0x000000001E350250}\n",
      "        1    0.000    0.000    0.000    0.000 {built-in method charmap_encode}\n",
      "        1    0.000    0.000    1.005    1.005 {built-in method exec}\n",
      "        1    0.000    0.000    0.000    0.000 {built-in method get_ident}\n",
      "        7    0.000    0.000    0.000    0.000 {built-in method getattr}\n",
      "        7    0.000    0.000    0.000    0.000 {built-in method getpid}\n",
      "        1    0.000    0.000    0.000    0.000 {built-in method hasattr}\n",
      "        4    0.000    0.000    0.000    0.000 {built-in method id}\n",
      "      135    0.000    0.000    0.000    0.000 {built-in method isinstance}\n",
      "        8    0.000    0.000    0.000    0.000 {built-in method len}\n",
      "        1    0.000    0.000    0.000    0.000 {built-in method locals}\n",
      "        1    0.000    0.000    0.000    0.000 {built-in method max}\n",
      "        1    0.000    0.000    0.000    0.000 {built-in method now}\n",
      "        2    0.000    0.000    0.003    0.002 {built-in method print}\n",
      "        5    1.001    0.200    1.001    0.200 {built-in method sleep}\n",
      "        4    0.000    0.000    0.000    0.000 {built-in method time}\n",
      "        1    0.000    0.000    0.000    0.000 {built-in method urandom}\n",
      "        3    0.000    0.000    0.000    0.000 {method 'append' of 'list' objects}\n",
      "        4    0.000    0.000    0.000    0.000 {method 'clear' of 'dict' objects}\n",
      "        1    0.000    0.000    0.000    0.000 {method 'close' of '_io.StringIO' objects}\n",
      "        3    0.000    0.000    0.000    0.000 {method 'copy' of '_hashlib.HASH' objects}\n",
      "        1    0.000    0.000    0.000    0.000 {method 'copy' of 'dict' objects}\n",
      "        1    0.000    0.000    0.000    0.000 {method 'count' of 'list' objects}\n",
      "        1    0.000    0.000    0.000    0.000 {method 'digest' of '_hashlib.HASH' objects}\n",
      "        1    0.000    0.000    0.000    0.000 {method 'disable' of '_lsprof.Profiler' objects}\n",
      "        5    0.000    0.000    0.000    0.000 {method 'encode' of 'str' objects}\n",
      "        2    0.000    0.000    0.000    0.000 {method 'extend' of 'list' objects}\n",
      "        1    0.000    0.000    0.000    0.000 {method 'get' of 'dict' objects}\n",
      "        1    0.000    0.000    0.000    0.000 {method 'getvalue' of '_io.StringIO' objects}\n",
      "        1    0.000    0.000    0.000    0.000 {method 'group' of '_sre.SRE_Match' objects}\n",
      "        1    0.000    0.000    0.000    0.000 {method 'hexdigest' of '_hashlib.HASH' objects}\n",
      "        1    0.000    0.000    0.000    0.000 {method 'isoformat' of 'datetime.datetime' objects}\n",
      "        3    0.001    0.000    0.001    0.000 {method 'items' of 'dict' objects}\n",
      "        4    0.000    0.000    0.000    0.000 {method 'join' of 'str' objects}\n",
      "        7    0.000    0.000    0.000    0.000 {method 'send' of 'zmq.backend.cython.socket.Socket' objects}\n",
      "       26    0.000    0.000    0.000    0.000 {method 'sub' of '_sre.SRE_Pattern' objects}\n",
      "        5    0.000    0.000    0.000    0.000 {method 'update' of '_hashlib.HASH' objects}\n",
      "        1    0.000    0.000    0.000    0.000 {method 'upper' of 'str' objects}\n",
      "        4    0.000    0.000    0.000    0.000 {method 'write' of '_io.StringIO' objects}\n",
      "        1    0.000    0.000    0.000    0.000 {zmq.backend.cython._poll.zmq_poll}\n",
      "\n",
      "\n"
     ]
    }
   ],
   "source": [
    "import cProfile\n",
    "import time\n",
    "\n",
    "def print_hello():\n",
    "    def print_it():\n",
    "        for _ in range(0, 5):\n",
    "            time.sleep(0.2)\n",
    "        print('here')\n",
    "    print(\"hello world!\") \n",
    "    print_it()\n",
    "    return 43 \n",
    "\n",
    "\n",
    "cProfile.run('print_hello()')"
   ]
  },
  {
   "cell_type": "code",
   "execution_count": null,
   "metadata": {
    "collapsed": true
   },
   "outputs": [],
   "source": []
  }
 ],
 "metadata": {
  "kernelspec": {
   "display_name": "Python 3",
   "language": "python",
   "name": "python3"
  },
  "language_info": {
   "codemirror_mode": {
    "name": "ipython",
    "version": 3
   },
   "file_extension": ".py",
   "mimetype": "text/x-python",
   "name": "python",
   "nbconvert_exporter": "python",
   "pygments_lexer": "ipython3",
   "version": "3.3.5rc1"
  },
  "nikola": {
   "category": "Python",
   "date": "2015-07-29 15:41:43 UTC+02:00",
   "description": "",
   "link": "",
   "slug": "a-brainstorm-before-starting",
   "tags": "Hacking,Testing",
   "title": "A Brainstorm before starting",
   "type": "text"
  }
 },
 "nbformat": 4,
 "nbformat_minor": 0
}
