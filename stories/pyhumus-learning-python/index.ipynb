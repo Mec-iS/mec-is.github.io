{
 "cells": [
  {
   "cell_type": "markdown",
   "metadata": {},
   "source": [
    "Write your page here."
   ]
  }
 ],
 "metadata": {
  "kernelspec": {
   "display_name": "Python 3",
   "env": {},
   "language": "python",
   "name": "python3"
  },
  "nikola": {
   "category": "",
   "date": "2015-07-21 19:36:09 UTC+02:00",
   "description": "",
   "link": "",
   "slug": "pyhumus-learning-python",
   "tags": "",
   "title": "PYhumus: Learning Python",
   "type": "text"
  }
 },
 "nbformat": 4,
 "nbformat_minor": 0
}
